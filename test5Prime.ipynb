{
 "cells": [
  {
   "cell_type": "code",
   "execution_count": 16,
   "metadata": {},
   "outputs": [],
   "source": [
    "\n",
    "def five2Three(seqFile):\n",
    "    # opening the txt file \n",
    "    fileContents = open(seqFile, 'r')\n",
    "    # reading txt file, replaing newline characters with \"\", and blank spots with \"\"\n",
    "    givenSeq = fileContents.read().replace('\\n', '').replace(' ', '').replace('\\t', '')\n",
    "    givenSeqList = list(givenSeq)\n",
    "    #want to check for a 5 at the begginign and a 3 at the end to remove for proper conversion\n",
    "    if givenSeq[0] == \"5\" and givenSeq[-1]==\"3\":\n",
    "        givenSeq = givenSeq[1:-1]\n",
    "        print(givenSeq)\n",
    "    else: #if there is no 5 or 3 ask user to confirm sequence\n",
    "        verifQ = input(\"Are you sure this is a 5 to 3 sequence (y/n) \")\n",
    "        if verifQ == \"y\":\n",
    "            print(givenSeq)\n",
    "        else:\n",
    "            print(\"Try again\")\n",
    "       \n",
    "   "
   ]
  },
  {
   "cell_type": "code",
   "execution_count": 17,
   "metadata": {},
   "outputs": [
    {
     "name": "stdout",
     "output_type": "stream",
     "text": [
      "ATACAGAGTTTACCGCATCTTGCCGTAACTGACAAACTGTGATCCACCACAAGTCAAGCCATTGCCTCTTAGACACGCCGTTAGAGTAATTATGTAAACT\n"
     ]
    }
   ],
   "source": [
    "five2Three(\"rnaTest.txt\")"
   ]
  },
  {
   "cell_type": "code",
   "execution_count": null,
   "metadata": {},
   "outputs": [],
   "source": []
  },
  {
   "cell_type": "code",
   "execution_count": null,
   "metadata": {},
   "outputs": [],
   "source": []
  },
  {
   "cell_type": "code",
   "execution_count": null,
   "metadata": {},
   "outputs": [],
   "source": []
  },
  {
   "cell_type": "code",
   "execution_count": null,
   "metadata": {},
   "outputs": [],
   "source": []
  }
 ],
 "metadata": {
  "kernelspec": {
   "display_name": "Python 3",
   "language": "python",
   "name": "python3"
  },
  "language_info": {
   "codemirror_mode": {
    "name": "ipython",
    "version": 3
   },
   "file_extension": ".py",
   "mimetype": "text/x-python",
   "name": "python",
   "nbconvert_exporter": "python",
   "pygments_lexer": "ipython3",
   "version": "3.7.1"
  }
 },
 "nbformat": 4,
 "nbformat_minor": 2
}
