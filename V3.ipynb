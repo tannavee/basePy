{
 "cells": [
  {
   "cell_type": "code",
   "execution_count": 1,
   "metadata": {},
   "outputs": [],
   "source": [
    "import basePy as bp\n",
    "\n",
    "def dna2protein(seqFile):\n",
    "    # opeing in the txt file with the given DNA sequence\n",
    "    fileContents = open(seqFile, 'r')\n",
    "    # reading the txt file, and replaing any newline characters with \"\", and blank spots with \"\"\n",
    "    givenSeq = fileContents.read().replace('\\n', '').replace(' ', '')\n",
    "    # print(\"The given sequence in the 5' to 3' direction is:\", dnaSeq)\n",
    "    # making the given sequence into a list\n",
    "    givenSeqList = list(givenSeq)\n",
    "    # using our library to create a complementary sequence list\n",
    "    compSeqList = bp.make_DNAcompSeq(givenSeqList)\n",
    "    # checking to see that the given sequence is a DNA sequence\n",
    "    if compSeqList == \"Warning: This is not a DNA sequence.\":\n",
    "        return compSeqList\n",
    "    else:\n",
    "        print(\"The complementary sequence to the given sequence in the 5' to 3' direction is:\",''.join(compSeqList))\n",
    "        orfsInGivenSeq = bp.dna_orfPrinter(givenSeqList)\n",
    "        orfsInCompSeq = bp.dna_orfPrinter(compSeqList)\n",
    "        print(orfsInGivenSeq)\n",
    "        print(orfsInCompSeq)\n",
    "        \n",
    "\n",
    "    "
   ]
  },
  {
   "cell_type": "code",
   "execution_count": 2,
   "metadata": {},
   "outputs": [
    {
     "name": "stdout",
     "output_type": "stream",
     "text": [
      "The complementary sequence to the given sequence in the 5' to 3' direction is: agtattccaggcctcttattcgttaaatatgcgggtagacgaccgactaaccccggtctctctgtataacacaaagctggagccacgagcgagggggtggtcacctcttggaacatgatggtagcgagcatgttgggccggcagtgaccgaataatgttgatagtccaggatatgtattccgagatgttttcttgtaaagtccaatttagcgacacgctcgtaagtggcttattggccgggttcccttatgcctcggccggttatatatggaaagtcggcctattcaggcgatgggatta\n",
      "No stop codon was found\n",
      "The following open reading frames in the sequence are ordered from greatest to least in size: \n",
      "ORF 1: 89 bases long, spanning from bases 28 to 117\n",
      "ORF 2: 17 bases long, spanning from bases 129 to 146\n",
      "\n"
     ]
    }
   ],
   "source": [
    "dna2protein('test.txt')"
   ]
  },
  {
   "cell_type": "code",
   "execution_count": 3,
   "metadata": {},
   "outputs": [
    {
     "data": {
      "text/plain": [
       "'C:\\\\Users\\\\tanna\\\\Desktop\\\\Year 4\\\\Winter 2020\\\\ECS 129\\\\Group Project\\\\ECS-129_Project-\\\\basePy.py'"
      ]
     },
     "execution_count": 3,
     "metadata": {},
     "output_type": "execute_result"
    }
   ],
   "source": [
    "bp.__file__"
   ]
  },
  {
   "cell_type": "code",
   "execution_count": null,
   "metadata": {},
   "outputs": [],
   "source": []
  }
 ],
 "metadata": {
  "kernelspec": {
   "display_name": "Python 3",
   "language": "python",
   "name": "python3"
  },
  "language_info": {
   "codemirror_mode": {
    "name": "ipython",
    "version": 3
   },
   "file_extension": ".py",
   "mimetype": "text/x-python",
   "name": "python",
   "nbconvert_exporter": "python",
   "pygments_lexer": "ipython3",
   "version": "3.7.3"
  }
 },
 "nbformat": 4,
 "nbformat_minor": 2
}
