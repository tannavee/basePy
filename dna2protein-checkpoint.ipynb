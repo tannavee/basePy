{
 "cells": [
  {
   "cell_type": "code",
   "execution_count": 37,
   "metadata": {},
   "outputs": [],
   "source": [
    "def dna2protein(seqFile):\n",
    "    fileContents = open(seqFile, 'r')\n",
    "    dnaSeq = fileContents.read().replace('\\n', '')\n",
    "    print(\"The given sequence is in the 5' to 3' direction:\", dnaSeq)\n",
    "    dnaSeqList = list(dnaSeq)\n",
    "    # print(dnaSeqList)\n",
    "    compSeqList = []\n",
    "    for nucleotide in dnaSeqList:\n",
    "        if nucleotide == 't':\n",
    "            compSeqList.append('a')\n",
    "        elif nucleotide == 'a':\n",
    "            compSeqList.append('t')\n",
    "        elif nucleotide == 'c':\n",
    "            compSeqList.append('g')\n",
    "        else:\n",
    "            if nucleotide == 'g':\n",
    "                compSeqList.append('c')\n",
    "    #print(compSeqList)\n",
    "    five_to_threeCompSeqList = compSeqList[::-1]\n",
    "    compSeq = ''.join(five_to_threeCompSeqList)\n",
    "    print(\"The complementery strand to the given strand in the 5' to 3' direction:\", compSeq)\n",
    "                \n",
    "    "
   ]
  },
  {
   "cell_type": "code",
   "execution_count": 39,
   "metadata": {},
   "outputs": [
    {
     "name": "stdout",
     "output_type": "stream",
     "text": [
      "The given sequence is in the 5' to 3' direction: ttttctgtttaaccgataggcccgcttcctctacacacgaaccgtccaatcgcgacattatcctgctagcagacctttaataacaccagcgctggcatct\n",
      "The complementery strand to the given strand in the 5' to 3' direction: agatgccagcgctggtgttattaaaggtctgctagcaggataatgtcgcgattggacggttcgtgtgtagaggaagcgggcctatcggttaaacagaaaa\n"
     ]
    }
   ],
   "source": [
    "dna2protein('ran100Seq.txt')"
   ]
  }
 ],
 "metadata": {
  "kernelspec": {
   "display_name": "Python 3",
   "language": "python",
   "name": "python3"
  },
  "language_info": {
   "codemirror_mode": {
    "name": "ipython",
    "version": 3
   },
   "file_extension": ".py",
   "mimetype": "text/x-python",
   "name": "python",
   "nbconvert_exporter": "python",
   "pygments_lexer": "ipython3",
   "version": "3.7.3"
  }
 },
 "nbformat": 4,
 "nbformat_minor": 2
}
