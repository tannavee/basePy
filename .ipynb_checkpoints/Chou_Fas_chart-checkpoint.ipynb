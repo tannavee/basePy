{
 "cells": [
  {
   "cell_type": "code",
   "execution_count": 2,
   "metadata": {},
   "outputs": [],
   "source": [
    "import pandas as pd\n",
    "import numpy as np"
   ]
  },
  {
   "cell_type": "code",
   "execution_count": 3,
   "metadata": {},
   "outputs": [
    {
     "data": {
      "text/html": [
       "<div>\n",
       "<style scoped>\n",
       "    .dataframe tbody tr th:only-of-type {\n",
       "        vertical-align: middle;\n",
       "    }\n",
       "\n",
       "    .dataframe tbody tr th {\n",
       "        vertical-align: top;\n",
       "    }\n",
       "\n",
       "    .dataframe thead th {\n",
       "        text-align: right;\n",
       "    }\n",
       "</style>\n",
       "<table border=\"1\" class=\"dataframe\">\n",
       "  <thead>\n",
       "    <tr style=\"text-align: right;\">\n",
       "      <th></th>\n",
       "      <th>AminoAcid</th>\n",
       "    </tr>\n",
       "  </thead>\n",
       "  <tbody>\n",
       "    <tr>\n",
       "      <th>0</th>\n",
       "      <td>Ala</td>\n",
       "    </tr>\n",
       "    <tr>\n",
       "      <th>1</th>\n",
       "      <td>Cys</td>\n",
       "    </tr>\n",
       "    <tr>\n",
       "      <th>2</th>\n",
       "      <td>Leu</td>\n",
       "    </tr>\n",
       "    <tr>\n",
       "      <th>3</th>\n",
       "      <td>Met</td>\n",
       "    </tr>\n",
       "    <tr>\n",
       "      <th>4</th>\n",
       "      <td>Glu</td>\n",
       "    </tr>\n",
       "  </tbody>\n",
       "</table>\n",
       "</div>"
      ],
      "text/plain": [
       "  AminoAcid\n",
       "0       Ala\n",
       "1       Cys\n",
       "2       Leu\n",
       "3       Met\n",
       "4       Glu"
      ]
     },
     "execution_count": 3,
     "metadata": {},
     "output_type": "execute_result"
    }
   ],
   "source": [
    "AminoAcid = [\"Ala\", \"Cys\", \"Leu\",\"Met\",\"Glu\",\"Gln\",\"His\",\"Lys\",\"Val\",\"Ile\",\"Phe\",\"Tyr\",\"Trp\",\"Thr\",\"Gly\",\"Ser\",\"Asp\",\n",
    "             \"Asn\",\"Pro\",\"Arg\"]\n",
    "AminoAcid = pd.DataFrame(AminoAcid)\n",
    "AminoAcid = AminoAcid.rename(columns = {0:\"AminoAcid\"})\n",
    "AminoAcid.head()"
   ]
  },
  {
   "cell_type": "code",
   "execution_count": 4,
   "metadata": {},
   "outputs": [
    {
     "data": {
      "text/html": [
       "<div>\n",
       "<style scoped>\n",
       "    .dataframe tbody tr th:only-of-type {\n",
       "        vertical-align: middle;\n",
       "    }\n",
       "\n",
       "    .dataframe tbody tr th {\n",
       "        vertical-align: top;\n",
       "    }\n",
       "\n",
       "    .dataframe thead th {\n",
       "        text-align: right;\n",
       "    }\n",
       "</style>\n",
       "<table border=\"1\" class=\"dataframe\">\n",
       "  <thead>\n",
       "    <tr style=\"text-align: right;\">\n",
       "      <th></th>\n",
       "      <th>AlphaHelix</th>\n",
       "    </tr>\n",
       "  </thead>\n",
       "  <tbody>\n",
       "    <tr>\n",
       "      <th>0</th>\n",
       "      <td>1.29</td>\n",
       "    </tr>\n",
       "    <tr>\n",
       "      <th>1</th>\n",
       "      <td>1.11</td>\n",
       "    </tr>\n",
       "    <tr>\n",
       "      <th>2</th>\n",
       "      <td>1.30</td>\n",
       "    </tr>\n",
       "    <tr>\n",
       "      <th>3</th>\n",
       "      <td>1.47</td>\n",
       "    </tr>\n",
       "    <tr>\n",
       "      <th>4</th>\n",
       "      <td>1.44</td>\n",
       "    </tr>\n",
       "  </tbody>\n",
       "</table>\n",
       "</div>"
      ],
      "text/plain": [
       "   AlphaHelix\n",
       "0        1.29\n",
       "1        1.11\n",
       "2        1.30\n",
       "3        1.47\n",
       "4        1.44"
      ]
     },
     "execution_count": 4,
     "metadata": {},
     "output_type": "execute_result"
    }
   ],
   "source": [
    "AlphaHelix = [1.29,1.11,1.30,1.47,1.44,1.27,1.22,1.23,0.91,0.97,1.07,0.72,0.99, 0.82,0.56,0.82,1.04,0.90,0.52,0.96]\n",
    "AlphaHelix = pd.DataFrame(AlphaHelix)\n",
    "AlphaHelix = AlphaHelix.rename(columns={0:\"AlphaHelix\"})\n",
    "AlphaHelix.head()"
   ]
  },
  {
   "cell_type": "code",
   "execution_count": 5,
   "metadata": {},
   "outputs": [
    {
     "data": {
      "text/html": [
       "<div>\n",
       "<style scoped>\n",
       "    .dataframe tbody tr th:only-of-type {\n",
       "        vertical-align: middle;\n",
       "    }\n",
       "\n",
       "    .dataframe tbody tr th {\n",
       "        vertical-align: top;\n",
       "    }\n",
       "\n",
       "    .dataframe thead th {\n",
       "        text-align: right;\n",
       "    }\n",
       "</style>\n",
       "<table border=\"1\" class=\"dataframe\">\n",
       "  <thead>\n",
       "    <tr style=\"text-align: right;\">\n",
       "      <th></th>\n",
       "      <th>BetaSheet</th>\n",
       "    </tr>\n",
       "  </thead>\n",
       "  <tbody>\n",
       "    <tr>\n",
       "      <th>0</th>\n",
       "      <td>0.90</td>\n",
       "    </tr>\n",
       "    <tr>\n",
       "      <th>1</th>\n",
       "      <td>0.74</td>\n",
       "    </tr>\n",
       "    <tr>\n",
       "      <th>2</th>\n",
       "      <td>1.02</td>\n",
       "    </tr>\n",
       "    <tr>\n",
       "      <th>3</th>\n",
       "      <td>0.97</td>\n",
       "    </tr>\n",
       "    <tr>\n",
       "      <th>4</th>\n",
       "      <td>0.75</td>\n",
       "    </tr>\n",
       "  </tbody>\n",
       "</table>\n",
       "</div>"
      ],
      "text/plain": [
       "   BetaSheet\n",
       "0       0.90\n",
       "1       0.74\n",
       "2       1.02\n",
       "3       0.97\n",
       "4       0.75"
      ]
     },
     "execution_count": 5,
     "metadata": {},
     "output_type": "execute_result"
    }
   ],
   "source": [
    "BetaSheet = [0.90,0.74 ,1.02 ,0.97 ,0.75 ,0.80 ,1.08 ,0.77, 1.49,1.45 ,1.32 ,1.25 ,1.14 ,1.21 ,0.92 ,0.95,\n",
    "            0.72,0.76,0.64,0.99]\n",
    "BetaSheet = pd.DataFrame(BetaSheet)\n",
    "BetaSheet = BetaSheet.rename(columns={0:\"BetaSheet\"})\n",
    "BetaSheet.head()"
   ]
  },
  {
   "cell_type": "code",
   "execution_count": 6,
   "metadata": {},
   "outputs": [
    {
     "data": {
      "text/html": [
       "<div>\n",
       "<style scoped>\n",
       "    .dataframe tbody tr th:only-of-type {\n",
       "        vertical-align: middle;\n",
       "    }\n",
       "\n",
       "    .dataframe tbody tr th {\n",
       "        vertical-align: top;\n",
       "    }\n",
       "\n",
       "    .dataframe thead th {\n",
       "        text-align: right;\n",
       "    }\n",
       "</style>\n",
       "<table border=\"1\" class=\"dataframe\">\n",
       "  <thead>\n",
       "    <tr style=\"text-align: right;\">\n",
       "      <th></th>\n",
       "      <th>Turn</th>\n",
       "    </tr>\n",
       "  </thead>\n",
       "  <tbody>\n",
       "    <tr>\n",
       "      <th>0</th>\n",
       "      <td>0.78</td>\n",
       "    </tr>\n",
       "    <tr>\n",
       "      <th>1</th>\n",
       "      <td>0.80</td>\n",
       "    </tr>\n",
       "    <tr>\n",
       "      <th>2</th>\n",
       "      <td>0.59</td>\n",
       "    </tr>\n",
       "    <tr>\n",
       "      <th>3</th>\n",
       "      <td>0.39</td>\n",
       "    </tr>\n",
       "    <tr>\n",
       "      <th>4</th>\n",
       "      <td>1.00</td>\n",
       "    </tr>\n",
       "  </tbody>\n",
       "</table>\n",
       "</div>"
      ],
      "text/plain": [
       "   Turn\n",
       "0  0.78\n",
       "1  0.80\n",
       "2  0.59\n",
       "3  0.39\n",
       "4  1.00"
      ]
     },
     "execution_count": 6,
     "metadata": {},
     "output_type": "execute_result"
    }
   ],
   "source": [
    "Turn = [0.78,0.80,0.59,0.39,1,0.97,0.69,0.96,0.47,0.51,0.58,1.05,0.75, 1.03, 1.64, 1.33, 1.41, 1.23, 1.91, 0.88]\n",
    "\n",
    "Turn = pd.DataFrame(Turn)\n",
    "Turn = Turn.rename(columns={0:\"Turn\"})\n",
    "Turn.head()"
   ]
  },
  {
   "cell_type": "code",
   "execution_count": 106,
   "metadata": {},
   "outputs": [
    {
     "data": {
      "text/html": [
       "<div>\n",
       "<style scoped>\n",
       "    .dataframe tbody tr th:only-of-type {\n",
       "        vertical-align: middle;\n",
       "    }\n",
       "\n",
       "    .dataframe tbody tr th {\n",
       "        vertical-align: top;\n",
       "    }\n",
       "\n",
       "    .dataframe thead th {\n",
       "        text-align: right;\n",
       "    }\n",
       "</style>\n",
       "<table border=\"1\" class=\"dataframe\">\n",
       "  <thead>\n",
       "    <tr style=\"text-align: right;\">\n",
       "      <th></th>\n",
       "      <th>AminoAcid</th>\n",
       "      <th>AlphaHelix</th>\n",
       "    </tr>\n",
       "  </thead>\n",
       "  <tbody>\n",
       "    <tr>\n",
       "      <th>0</th>\n",
       "      <td>Ala</td>\n",
       "      <td>1.29</td>\n",
       "    </tr>\n",
       "    <tr>\n",
       "      <th>1</th>\n",
       "      <td>Cys</td>\n",
       "      <td>1.11</td>\n",
       "    </tr>\n",
       "    <tr>\n",
       "      <th>2</th>\n",
       "      <td>Leu</td>\n",
       "      <td>1.30</td>\n",
       "    </tr>\n",
       "    <tr>\n",
       "      <th>3</th>\n",
       "      <td>Met</td>\n",
       "      <td>1.47</td>\n",
       "    </tr>\n",
       "    <tr>\n",
       "      <th>4</th>\n",
       "      <td>Glu</td>\n",
       "      <td>1.44</td>\n",
       "    </tr>\n",
       "  </tbody>\n",
       "</table>\n",
       "</div>"
      ],
      "text/plain": [
       "  AminoAcid  AlphaHelix\n",
       "0       Ala        1.29\n",
       "1       Cys        1.11\n",
       "2       Leu        1.30\n",
       "3       Met        1.47\n",
       "4       Glu        1.44"
      ]
     },
     "execution_count": 106,
     "metadata": {},
     "output_type": "execute_result"
    }
   ],
   "source": [
    "chou_fasman_chart = pd.concat([AminoAcid,AlphaHelix],sort = False, axis=1)\n",
    "chou_fasman_chart.head()"
   ]
  },
  {
   "cell_type": "code",
   "execution_count": 103,
   "metadata": {},
   "outputs": [],
   "source": [
    "chou_fasman_dict = {'Ala': 1.29,\n",
    "  'Cys': 1.11,\n",
    "  'Leu': 1.3,\n",
    "  'Met': 1.47,\n",
    "  'Glu': 1.44,\n",
    "  'Gln': 1.27,\n",
    "  'His': 1.22,\n",
    "  'Lys': 1.23,\n",
    "  'Val': 0.91,\n",
    "  'Ile': 0.97,\n",
    "  'Phe': 1.07,\n",
    "  'Tyr': 0.72,\n",
    "  'Trp': 0.99,\n",
    "  'Thr': 0.82,\n",
    "  'Gly': 0.56,\n",
    "  'Ser': 0.82,\n",
    "  'Asp': 1.04,\n",
    "  'Asn': 0.9,\n",
    "  'Pro': 0.52,\n",
    "  'Arg': 0.96}"
   ]
  },
  {
   "cell_type": "code",
   "execution_count": 117,
   "metadata": {},
   "outputs": [
    {
     "data": {
      "text/plain": [
       "{'Ala': 1.29,\n",
       " 'Cys': 1.11,\n",
       " 'Leu': 1.3,\n",
       " 'Met': 1.47,\n",
       " 'Glu': 1.44,\n",
       " 'Gln': 1.27,\n",
       " 'His': 1.22,\n",
       " 'Lys': 1.23,\n",
       " 'Val': 0.91,\n",
       " 'Ile': 0.97,\n",
       " 'Phe': 1.07,\n",
       " 'Tyr': 0.72,\n",
       " 'Trp': 0.99,\n",
       " 'Thr': 0.82,\n",
       " 'Gly': 0.56,\n",
       " 'Ser': 0.82,\n",
       " 'Asp': 1.04,\n",
       " 'Asn': 0.9,\n",
       " 'Pro': 0.52,\n",
       " 'Arg': 0.96}"
      ]
     },
     "execution_count": 117,
     "metadata": {},
     "output_type": "execute_result"
    }
   ],
   "source": [
    "chou_fasman_dict"
   ]
  },
  {
   "cell_type": "code",
   "execution_count": 144,
   "metadata": {},
   "outputs": [
    {
     "name": "stdout",
     "output_type": "stream",
     "text": [
      "[0.9, 1.47, 0.52, 0.96, 1.07, 0.82, 1.07, 0.97, 1.3]\n"
     ]
    }
   ],
   "source": [
    "dummyList = ['Asn', \"Met\",'Pro', 'Arg', 'Phe', 'Ser',\"Phe\",'Ile',\"Leu\"]\n",
    "newList = []\n",
    "for i in range(len(dummyList)):\n",
    "    value = dummyList[i]\n",
    "    newList.append(chou_fasman_dict[value])\n",
    "print(newList)"
   ]
  },
  {
   "cell_type": "code",
   "execution_count": 142,
   "metadata": {},
   "outputs": [],
   "source": [
    "# M =chou_fasman_chart.loc[(chou_fasman_chart[\"AminoAcid\"]==\"Met\")].index()\n",
    "# G = chou_fasman_chart.loc[(chou_fasman_chart[\"AminoAcid\"]==\"Glu\")]\n",
    "# H = chou_fasman_chart.loc[(chou_fasman_chart[\"AminoAcid\"]==\"His\")]\n",
    "# L= chou_fasman_chart.loc[(chou_fasman_chart[\"AminoAcid\"]==\"Leu\")]\n",
    "# S = chou_fasman_chart.loc[(chou_fasman_chart[\"AminoAcid\"]==\"Ser\")]\n",
    "\n",
    "\n",
    "# prteinSeq = {\"Met\":M.AlphaHelix,\"Glu\":G.AlphaHelix ,\"His\":H.AlphaHelix,\"Leu\":L.AlphaHelix,\"Ser\":S.AlphaHelix }\n",
    "# prteinSeq"
   ]
  },
  {
   "cell_type": "code",
   "execution_count": null,
   "metadata": {},
   "outputs": [],
   "source": []
  },
  {
   "cell_type": "code",
   "execution_count": null,
   "metadata": {},
   "outputs": [],
   "source": []
  }
 ],
 "metadata": {
  "kernelspec": {
   "display_name": "Python 3",
   "language": "python",
   "name": "python3"
  },
  "language_info": {
   "codemirror_mode": {
    "name": "ipython",
    "version": 3
   },
   "file_extension": ".py",
   "mimetype": "text/x-python",
   "name": "python",
   "nbconvert_exporter": "python",
   "pygments_lexer": "ipython3",
   "version": "3.7.1"
  }
 },
 "nbformat": 4,
 "nbformat_minor": 2
}
