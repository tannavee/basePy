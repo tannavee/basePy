{
 "cells": [
  {
   "cell_type": "code",
   "execution_count": 16,
   "metadata": {},
   "outputs": [],
   "source": [
    "def dna2protein(seqFile):\n",
    "    fileContents = open(seqFile, 'r')\n",
    "    dnaSeq = fileContents.read().replace('\\n', '').replace(' ', '')\n",
    "    print(\"The given sequence is in the 5' to 3' direction:\", dnaSeq)\n",
    "    dnaSeqList = list(dnaSeq)\n",
    "    # print(dnaSeqList)\n",
    "    three_to_fivecompSeqList = []\n",
    "    dnaChecker = True\n",
    "    for nucleotide in dnaSeqList:\n",
    "        if nucleotide.casefold() == 't':\n",
    "            if nucleotide.isupper():\n",
    "                cthree_to_fivecompSeqList.append('A')\n",
    "            else:\n",
    "                three_to_fivecompSeqList.append('a')\n",
    "                \n",
    "        elif nucleotide.casefold() == 'a':\n",
    "            if nucleotide.isupper():\n",
    "                three_to_fivecompSeqList.append('T')\n",
    "            else:\n",
    "                three_to_fivecompSeqList.append('t')\n",
    "                \n",
    "        elif nucleotide.casefold() == 'c':\n",
    "            if nucleotide.isupper():\n",
    "                three_to_fivecompSeqList.append('G')\n",
    "            else:\n",
    "                three_to_fivecompSeqList.append('g')\n",
    "           \n",
    "        elif nucleotide.casefold() == 'g':\n",
    "            if nucleotide.isupper():\n",
    "                three_to_fivecompSeqList.append('C')\n",
    "            else:\n",
    "                three_to_fivecompSeqList.append('c')\n",
    "        else:\n",
    "            if nucleotide.casefold() != \"a\" or \"t\"or \"c\" or \"g\":\n",
    "                dnaChecker = False\n",
    "                break            \n",
    "    #print(compSeqList)\n",
    "    compSeqList = three_to_fivecompSeqList[::-1]\n",
    "    compSeq = ''.join(compSeqList)\n",
    "    if dnaChecker == True: \n",
    "        print(\"The complementery strand to the given strand in the 5' to 3' direction:\", compSeq)\n",
    "    else: \n",
    "        print(\"Warning: This is not a DNA Sequence.\")\n",
    "    \n",
    "    counter = 0\n",
    "    firstStart_compSeqList = False\n",
    "    secondStart_compSeqList = False\n",
    "    thirdStart_compSeqList = False\n",
    "    while counter <= len(compSeqList)-1 and firstStart_compSeqList is False and secondStart_compSeqList is False and thirdStart_compSeqList is False:\n",
    "        if counter + 2 <= len(compSeqList)-1 and compSeqList[counter] == 'a' and compSeqList[counter + 1] == 't' and compSeqList[counter + 2] == 'g':\n",
    "            print(\"found at\", counter, 'and', counter + 1, 'and', counter + 2)\n",
    "            firstStart_compSeqList, secondStart_compSeqList, thirdStart_compSeqList = True, True, True\n",
    "        else: \n",
    "            counter += 1\n",
    "            if counter > len(compSeqList) - 1:\n",
    "                print(\"No codon was found in compSeqList\")\n",
    "                \n",
    "    counter = 0\n",
    "    firstStart_dnaSeqList = False\n",
    "    secondStart_dnaSeqList = False\n",
    "    thirdStart_dnaSeqList = False\n",
    "    while counter <= len(dnaSeqList)-1 and firstStart_dnaSeqList is False and secondStart_dnaSeqList is False and thirdStart_dnaSeqList is False:\n",
    "        if counter + 2 <= len(dnaSeqList)-1 and dnaSeqList[counter] == 'a' and dnaSeqList[counter + 1] == 't' and dnaSeqList[counter + 2] == 'g':\n",
    "            print(\"found at\", counter, 'and', counter + 1, 'and', counter + 2)\n",
    "            firstStart_dnaSeqList, secondStart_dnaSeqList, thirdStart_dnaSeqList = True, True, True\n",
    "        else: \n",
    "            counter += 1\n",
    "            if counter > len(dnaSeqList) - 1:\n",
    "                print(\"No codon was found in dnaSeqList\")\n",
    "    \n",
    "    "
   ]
  },
  {
   "cell_type": "code",
   "execution_count": 17,
   "metadata": {},
   "outputs": [
    {
     "name": "stdout",
     "output_type": "stream",
     "text": [
      "The given sequence is in the 5' to 3' direction: taatcccatcgcctgaataggccgactttccatatataaccggccgaggcataagggaacccggccaataagccacttacgagcgtgtcgctaaattggactttacaagaaaacatctcggaatacatatcctggactatcaacattattcggtcactgccggcccaacatgctcgctaccatcatgttccaagaggtgaccaccccctcgctcgtggctccagctttgtgttatacagagagaccggggttagtcggtcgtctacccgcatatttaacgaataagaggcctggaatact\n",
      "The complementery strand to the given strand in the 5' to 3' direction: agtattccaggcctcttattcgttaaatatgcgggtagacgaccgactaaccccggtctctctgtataacacaaagctggagccacgagcgagggggtggtcacctcttggaacatgatggtagcgagcatgttgggccggcagtgaccgaataatgttgatagtccaggatatgtattccgagatgttttcttgtaaagtccaatttagcgacacgctcgtaagtggcttattggccgggttcccttatgcctcggccggttatatatggaaagtcggcctattcaggcgatgggatta\n",
      "found at 28 and 29 and 30\n",
      "found at 169 and 170 and 171\n"
     ]
    }
   ],
   "source": [
    "dna2protein('test.txt')"
   ]
  },
  {
   "cell_type": "code",
   "execution_count": null,
   "metadata": {},
   "outputs": [],
   "source": []
  }
 ],
 "metadata": {
  "kernelspec": {
   "display_name": "Python 3",
   "language": "python",
   "name": "python3"
  },
  "language_info": {
   "codemirror_mode": {
    "name": "ipython",
    "version": 3
   },
   "file_extension": ".py",
   "mimetype": "text/x-python",
   "name": "python",
   "nbconvert_exporter": "python",
   "pygments_lexer": "ipython3",
   "version": "3.7.3"
  }
 },
 "nbformat": 4,
 "nbformat_minor": 2
}
