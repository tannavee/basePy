{
 "cells": [
  {
   "cell_type": "code",
   "execution_count": 78,
   "metadata": {},
   "outputs": [],
   "source": [
    "def dna2protein(seqFile):\n",
    "    fileContents = open(seqFile, 'r')\n",
    "    dnaSeq = fileContents.read().replace('\\n', '').replace(' ', '')\n",
    "    print(\"The given sequence is in the 5' to 3' direction:\", dnaSeq)\n",
    "    dnaSeqList = list(dnaSeq)\n",
    "    # print(dnaSeqList)\n",
    "    compSeqList = []\n",
    "    dnaChecker = True\n",
    "    for nucleotide in dnaSeqList:\n",
    "        if nucleotide.casefold() == 't':\n",
    "            if nucleotide.isupper():\n",
    "                compSeqList.append('A')\n",
    "            else:\n",
    "                compSeqList.append('a')\n",
    "                \n",
    "        elif nucleotide.casefold() == 'a':\n",
    "            if nucleotide.isupper():\n",
    "                compSeqList.append('T')\n",
    "            else:\n",
    "                compSeqList.append('t')\n",
    "                \n",
    "        elif nucleotide.casefold() == 'c':\n",
    "            if nucleotide.isupper():\n",
    "                compSeqList.append('G')\n",
    "            else:\n",
    "                compSeqList.append('g')\n",
    "           \n",
    "        elif nucleotide.casefold() == 'g':\n",
    "            if nucleotide.isupper():\n",
    "                compSeqList.append('C')\n",
    "            else:\n",
    "                 compSeqList.append('c')\n",
    "        else:\n",
    "            if nucleotide.casefold() != \"a\" or \"t\"or \"c\" or \"g\":\n",
    "                dnaChecker = False\n",
    "                break \n",
    "            \n",
    "            \n",
    "    \n",
    "                \n",
    "    #print(compSeqList)\n",
    "    five_to_threeCompSeqList = compSeqList[::-1]\n",
    "    compSeq = ''.join(five_to_threeCompSeqList)\n",
    "    if dnaChecker == True: \n",
    "        print(\"The complementery strand to the given strand in the 5' to 3' direction:\", compSeq)\n",
    "    else: \n",
    "        print(\"Warning: This is not a DNA Sequence.\")\n",
    "                \n",
    "    "
   ]
  },
  {
   "cell_type": "code",
   "execution_count": 79,
   "metadata": {},
   "outputs": [
    {
     "name": "stdout",
     "output_type": "stream",
     "text": [
      "The given sequence is in the 5' to 3' direction: taatcccatcgcctgaataggccgactttccatatataaccggccgaggcataagggaacccggccaataagccacttacgagcgtgtcgctaaattggactttacaagaaaacatctcggaatacatatcctggactatcaacattattcggtcactgccggcccaacatgctcgctaccatcatgttccaagaggtgaccaccccctcgctcgtggctccagctttgtgttatacagagagaccggggttagtcggtcgtctacccgcatatttaacgaataagaggcctggaatact\n",
      "The complementery strand to the given strand in the 5' to 3' direction: agtattccaggcctcttattcgttaaatatgcgggtagacgaccgactaaccccggtctctctgtataacacaaagctggagccacgagcgagggggtggtcacctcttggaacatgatggtagcgagcatgttgggccggcagtgaccgaataatgttgatagtccaggatatgtattccgagatgttttcttgtaaagtccaatttagcgacacgctcgtaagtggcttattggccgggttcccttatgcctcggccggttatatatggaaagtcggcctattcaggcgatgggatta\n"
     ]
    }
   ],
   "source": [
    "dna2protein('test.txt')"
   ]
  },
  {
   "cell_type": "code",
   "execution_count": null,
   "metadata": {},
   "outputs": [],
   "source": []
  }
 ],
 "metadata": {
  "kernelspec": {
   "display_name": "Python 3",
   "language": "python",
   "name": "python3"
  },
  "language_info": {
   "codemirror_mode": {
    "name": "ipython",
    "version": 3
   },
   "file_extension": ".py",
   "mimetype": "text/x-python",
   "name": "python",
   "nbconvert_exporter": "python",
   "pygments_lexer": "ipython3",
   "version": "3.7.1"
  }
 },
 "nbformat": 4,
 "nbformat_minor": 2
}
