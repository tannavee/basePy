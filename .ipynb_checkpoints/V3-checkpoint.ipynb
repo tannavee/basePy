{
 "cells": [
  {
   "cell_type": "code",
   "execution_count": 9,
   "metadata": {},
   "outputs": [
    {
     "name": "stdout",
     "output_type": "stream",
     "text": [
      "No stop codon was found\n"
     ]
    }
   ],
   "source": [
    "import basePy as bp\n",
    "\n",
    "def dna2protein(seqFile):\n",
    "    # opening the txt file \n",
    "    fileContents = open(seqFile, 'r')\n",
    "    # reading txt file, replaing newline characters with \"\", and blank spots with \"\"\n",
    "    givenSeq = fileContents.read().replace('\\n', '').replace(' ', '').replace('\\t', '')\n",
    "    # making the given sequence into a list\n",
    "    givenSeqList = list(givenSeq)\n",
    "    # using our library to create a complementary sequence list\n",
    "    compSeqList = bp.dna_compSeqMaker(givenSeqList)\n",
    "    \n",
    "    # checking to see that the given sequence is a DNA sequence, if not return error messege \n",
    "    if compSeqList == \"Warning: This is not a DNA sequence.\":\n",
    "        return compSeqList\n",
    "    # if the DNA sequence\n",
    "    else:\n",
    "        # finding orfs for the given/comp seqs\n",
    "        orfsInGivenSeq = bp.dna_wholeSeqOrfFinder(givenSeqList)\n",
    "        orfsInCompSeq = bp.dna_wholeSeqOrfFinder(compSeqList)\n",
    "        \n",
    "        #if given doesn't have orf, and comp does\n",
    "        if type(orfsInGivenSeq) == str and type(orfsInCompSeq) == dict:\n",
    "            print(\"Results for the given sequence:\", orfsInGivenSeq)\n",
    "            print(\"Results for the complementary sequence:\", bp.dna_orfPrinter(orfsInCompSeq))\n",
    "            codingStrandList = compSeqList\n",
    "            mRNApositions = {key.replace(\"ORF\", \"mRNA\"): value for key, value in orfsInCompSeq.items()}\n",
    "\n",
    "        \n",
    "        # if given has orf and comp does\n",
    "        elif type(orfsInCompSeq) == str and type(orfsInGivenSeq) == dict:\n",
    "            print(\"Results for the complementary sequence:\", orfsInCompSeq)\n",
    "            print(\"Results for the given sequence:\", bp.dna_orfPrinter(orfsInGivenSeq))\n",
    "            codingStrandList = givenSeqList\n",
    "            mRNApositions = {key.replace(\"ORF\", \"mRNA\"): value for key, value in orfsInGivenSeq.items()}\n",
    "\n",
    "            \n",
    "        # if given and comp both have orfs\n",
    "        elif type(orfsInCompSeq) == dict and type(orfsInGivenSeq) == dict:\n",
    "            print(\"There are ORFS in the given and complementary sequence.\")\n",
    "            print(\"Results for the given sequence:\", bp.dna_orfPrinter(orfsInGivenSeq))\n",
    "            print(\"Results for the complementary sequence:\", bp.dna_orfPrinter(orfsInCompSeq))\n",
    "            if (orfsInCompSeq['ORF 1'][1] - orfsInCompSeq['ORF 1'][0]) > (orfsInGivenSeq['ORF 1'][1] - orfsInGivenSeq['ORF 1'][0]):\n",
    "                codingStrandList = compSeqList\n",
    "                print('The longest ORF is in the complementary sequence, this program will use this sequence to get the mRNA.')\n",
    "                mRNApositions = mydictionary = {key.replace(\"ORF\", \"mRNA\"): value for key, value in orfsInCompSeq.items()}\n",
    "\n",
    "            else:\n",
    "                codingStrandList = givenSeqList\n",
    "                print('The longest ORF is in the given sequence, this program will use this sequence to get the mRNA.')\n",
    "                mRNApositions = {key.replace(\"ORF\", \"mRNA\"): value for key, value in orfsInGivenSeq.items()}\n",
    "\n",
    "           \n",
    "        # if neither given and comp have orfs\n",
    "        else:\n",
    "            return \"Results for the given sequence: \" + orfsInGivenSeq, \"Results for the complementary sequence: \" + orfsInCompSeq\n",
    "    \n",
    "    rnaStrandList = bp.rna_codingToMRNA(codingStrandList)\n",
    "    print(mRNApositions)\n",
    "    \n",
    "    \n",
    "a = ['a', 't', 'g']\n",
    "\n",
    "d = bp.dna_wholeSeqOrfFinder(a)\n",
    "\n",
    "print(d)\n",
    "            \n",
    "\n",
    "    "
   ]
  },
  {
   "cell_type": "code",
   "execution_count": 6,
   "metadata": {},
   "outputs": [
    {
     "name": "stdout",
     "output_type": "stream",
     "text": [
      "Results for the given sequence: No stop codon was found\n",
      "Results for the complementary sequence: The following 2 open reading frames in the sequence are ordered from greatest to least in size: \n",
      "ORF 1: 89 bases long, spanning from bases 28 to 117\n",
      "ORF 2: 17 bases long, spanning from bases 129 to 146\n",
      "\n",
      "{'mRNA 1': [28, 117], 'mRNA 2': [129, 146]}\n"
     ]
    }
   ],
   "source": [
    "dna2protein('test.txt')"
   ]
  },
  {
   "cell_type": "code",
   "execution_count": 3,
   "metadata": {},
   "outputs": [
    {
     "data": {
      "text/plain": [
       "'/home/tannavee/Desktop/ECS 129/ECS-129_Project-/basePy.py'"
      ]
     },
     "execution_count": 3,
     "metadata": {},
     "output_type": "execute_result"
    }
   ],
   "source": [
    "bp.__file__"
   ]
  },
  {
   "cell_type": "code",
   "execution_count": null,
   "metadata": {},
   "outputs": [],
   "source": [
    "        \n",
    "        elif type(orfsInCompSeq) == str and type(orfsInGivenSeq) == dict:\n",
    "            print(\"Results for the complementary sequence:\", orfsInCompSeq)\n",
    "            print(\"Results for the given sequence:\", bp.dna_orfPrinter(orfsInGivenSeq))\n",
    "        elif type(orfsInCompSeq) == dict and type(orfsInGivenSeq) == dict:\n",
    "            print(\"There are ORFS in the given and complementary sequence.\")\n",
    "            print(\"Results for the complementary sequence:\", bp.dna_orfPrinter(orfsInCompSeq))\n",
    "            print(\"Results for the given sequence:\", bp.dna_orfPrinter(orfsInGivenSeq))\n",
    "        else:\n",
    "            return \"Results for the given sequence: \" + orfsInGivenSeq, \"Results for the complementary sequence: \" + orfsInCompSeq\n",
    "        "
   ]
  }
 ],
 "metadata": {
  "kernelspec": {
   "display_name": "Python 3",
   "language": "python",
   "name": "python3"
  },
  "language_info": {
   "codemirror_mode": {
    "name": "ipython",
    "version": 3
   },
   "file_extension": ".py",
   "mimetype": "text/x-python",
   "name": "python",
   "nbconvert_exporter": "python",
   "pygments_lexer": "ipython3",
   "version": "3.7.4"
  }
 },
 "nbformat": 4,
 "nbformat_minor": 2
}
